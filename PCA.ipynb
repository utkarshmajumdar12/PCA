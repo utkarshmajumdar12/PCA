{
  "nbformat": 4,
  "nbformat_minor": 0,
  "metadata": {
    "colab": {
      "provenance": []
    },
    "kernelspec": {
      "name": "python3",
      "display_name": "Python 3"
    },
    "language_info": {
      "name": "python"
    }
  },
  "cells": [
    {
      "cell_type": "code",
      "execution_count": 37,
      "metadata": {
        "id": "TtsRdIE6WiAj"
      },
      "outputs": [],
      "source": [
        "import numpy as np\n",
        "import pandas as pd"
      ]
    },
    {
      "cell_type": "code",
      "source": [
        "m = np.array([(2, 1), (3, 4), (5, 0), (7, 6), (9, 2)])"
      ],
      "metadata": {
        "id": "HJjDZWfcWlWd"
      },
      "execution_count": 38,
      "outputs": []
    },
    {
      "cell_type": "code",
      "source": [
        "print(\"Original array\",m)"
      ],
      "metadata": {
        "colab": {
          "base_uri": "https://localhost:8080/"
        },
        "id": "RuyMqHd_W-Wu",
        "outputId": "759f2c47-3476-4a90-aa97-3869ae2cfaa1"
      },
      "execution_count": 39,
      "outputs": [
        {
          "output_type": "stream",
          "name": "stdout",
          "text": [
            "Original array [[2 1]\n",
            " [3 4]\n",
            " [5 0]\n",
            " [7 6]\n",
            " [9 2]]\n"
          ]
        }
      ]
    },
    {
      "cell_type": "code",
      "source": [
        "len(m)"
      ],
      "metadata": {
        "colab": {
          "base_uri": "https://localhost:8080/"
        },
        "id": "pIAqg0VVaFH5",
        "outputId": "77755cf1-f3c2-441e-b31e-b2991d55272e"
      },
      "execution_count": 41,
      "outputs": [
        {
          "output_type": "execute_result",
          "data": {
            "text/plain": [
              "5"
            ]
          },
          "metadata": {},
          "execution_count": 41
        }
      ]
    },
    {
      "cell_type": "code",
      "source": [
        "sum = 0\n",
        "for i in range(len(m)):\n",
        "  print(m[i][0])\n",
        "  sum = sum+m[i][0]\n",
        "print(sum)\n",
        "mean = sum/len(m)\n",
        "mean"
      ],
      "metadata": {
        "colab": {
          "base_uri": "https://localhost:8080/"
        },
        "id": "laXGb_9tZZhF",
        "outputId": "9721eee4-a31d-48da-f4a6-aabb442f9ccc"
      },
      "execution_count": 51,
      "outputs": [
        {
          "output_type": "stream",
          "name": "stdout",
          "text": [
            "2\n",
            "3\n",
            "5\n",
            "7\n",
            "9\n",
            "26\n"
          ]
        },
        {
          "output_type": "execute_result",
          "data": {
            "text/plain": [
              "5.2"
            ]
          },
          "metadata": {},
          "execution_count": 51
        }
      ]
    },
    {
      "cell_type": "code",
      "source": [
        "sum2 = 0\n",
        "for i in range(len(m)):\n",
        "  print(m[i][1])\n",
        "  sum2 = sum2 + m[i][1]\n",
        "print(\"sum =\",sum2)\n",
        "mean2 = sum2/5\n",
        "mean2"
      ],
      "metadata": {
        "colab": {
          "base_uri": "https://localhost:8080/"
        },
        "id": "aj5NqTm3bFSL",
        "outputId": "f7f22499-34c1-47e4-da11-635109489e52"
      },
      "execution_count": 55,
      "outputs": [
        {
          "output_type": "stream",
          "name": "stdout",
          "text": [
            "1\n",
            "4\n",
            "0\n",
            "6\n",
            "2\n",
            "sum = 13\n"
          ]
        },
        {
          "output_type": "execute_result",
          "data": {
            "text/plain": [
              "2.6"
            ]
          },
          "metadata": {},
          "execution_count": 55
        }
      ]
    },
    {
      "cell_type": "code",
      "source": [
        "for i in range(len(m)):\n",
        "  m[i][0], m[i][1] = m[i][0] - mean , m[i][1] - mean2"
      ],
      "metadata": {
        "id": "b08cLBz1ceyu"
      },
      "execution_count": 56,
      "outputs": []
    },
    {
      "cell_type": "code",
      "source": [
        "print(m)"
      ],
      "metadata": {
        "colab": {
          "base_uri": "https://localhost:8080/"
        },
        "id": "4CX8Wp2_dUjq",
        "outputId": "ed993d88-3b25-437d-90f2-cc4b035fe2d5"
      },
      "execution_count": 57,
      "outputs": [
        {
          "output_type": "stream",
          "name": "stdout",
          "text": [
            "[[-3 -1]\n",
            " [-2  1]\n",
            " [ 0 -2]\n",
            " [ 1  3]\n",
            " [ 3  0]]\n"
          ]
        }
      ]
    },
    {
      "cell_type": "code",
      "source": [
        "res =0\n",
        "for i in range(len(m)):\n",
        "  res =  res + np.dot(m[i].reshape(2,1) ,m[i].reshape(1,2))\n",
        "res"
      ],
      "metadata": {
        "colab": {
          "base_uri": "https://localhost:8080/"
        },
        "id": "lW9CalAMdV-a",
        "outputId": "abbde17c-c9f7-4a49-8442-8ae7d90c2b89"
      },
      "execution_count": 82,
      "outputs": [
        {
          "output_type": "execute_result",
          "data": {
            "text/plain": [
              "array([[23,  4],\n",
              "       [ 4, 15]])"
            ]
          },
          "metadata": {},
          "execution_count": 82
        }
      ]
    },
    {
      "cell_type": "code",
      "source": [
        "new_Res = res/5\n",
        "new_Res"
      ],
      "metadata": {
        "colab": {
          "base_uri": "https://localhost:8080/"
        },
        "id": "LQKsAizXdoe7",
        "outputId": "b539ce3c-3d99-4ef0-c0ce-1bf2d0bd4bd9"
      },
      "execution_count": 84,
      "outputs": [
        {
          "output_type": "execute_result",
          "data": {
            "text/plain": [
              "array([[4.6, 0.8],\n",
              "       [0.8, 3. ]])"
            ]
          },
          "metadata": {},
          "execution_count": 84
        }
      ]
    },
    {
      "cell_type": "code",
      "source": [
        "eig_val, eig_vec = np.linalg.eig(new_Res)"
      ],
      "metadata": {
        "id": "xGk9oANBdrvH"
      },
      "execution_count": 85,
      "outputs": []
    },
    {
      "cell_type": "code",
      "source": [
        "print(eig_val)\n",
        "print(eig_vec)"
      ],
      "metadata": {
        "colab": {
          "base_uri": "https://localhost:8080/"
        },
        "id": "J6ZtA259d4o9",
        "outputId": "6413187b-0ac6-4a19-b45a-310e2ee81328"
      },
      "execution_count": 87,
      "outputs": [
        {
          "output_type": "stream",
          "name": "stdout",
          "text": [
            "[4.93137085 2.66862915]\n",
            "[[ 0.92387953 -0.38268343]\n",
            " [ 0.38268343  0.92387953]]\n"
          ]
        }
      ]
    },
    {
      "cell_type": "code",
      "source": [
        "pc1 = m.dot(eig_vec)\n"
      ],
      "metadata": {
        "id": "eRseAfcYjNpH"
      },
      "execution_count": 95,
      "outputs": []
    },
    {
      "cell_type": "code",
      "source": [
        "print(pc1)\n"
      ],
      "metadata": {
        "colab": {
          "base_uri": "https://localhost:8080/"
        },
        "id": "oHp8xKgOlwIi",
        "outputId": "a5c89af4-8c9f-4208-95e1-0aa9e1c16c79"
      },
      "execution_count": 96,
      "outputs": [
        {
          "output_type": "stream",
          "name": "stdout",
          "text": [
            "[[-3.15432203  0.22417076]\n",
            " [-1.46507563  1.6892464 ]\n",
            " [-0.76536686 -1.84775907]\n",
            " [ 2.07192983  2.38895517]\n",
            " [ 2.7716386  -1.1480503 ]]\n"
          ]
        }
      ]
    },
    {
      "cell_type": "code",
      "source": [
        "import matplotlib.pyplot as plt\n",
        "\n",
        "og_m = np.array([(2, 1), (3, 4), (5, 0), (7, 6), (9, 2)])\n",
        "\n",
        "fig, ax = plt.subplots()\n",
        "\n",
        "x = og_m[:, 0]\n",
        "y = og_m[:, 1]\n",
        "\n",
        "ax.scatter(x, y)\n",
        "ax.set_xlabel('X-axis')\n",
        "ax.set_ylabel('Y-axis')\n",
        "ax.set_title('Plot of m')\n",
        "plt.show()"
      ],
      "metadata": {
        "colab": {
          "base_uri": "https://localhost:8080/",
          "height": 357
        },
        "id": "JHmSnBFQlzeS",
        "outputId": "5e2f7478-49de-49d3-a4fb-ec735f8406c0"
      },
      "execution_count": 101,
      "outputs": [
        {
          "output_type": "display_data",
          "data": {
            "text/plain": [
              "<Figure size 750x350 with 1 Axes>"
            ],
            "image/png": "[encoded data removed]"
          },
          "metadata": {}
        }
      ]
    },
    {
      "cell_type": "code",
      "source": [
        "fig, ax = plt.subplots()\n",
        "\n",
        "x = pc1[:, 0]\n",
        "y = pc1[:, 1]\n",
        "\n",
        "ax.scatter(x, y)\n",
        "ax.set_xlabel('X-axis')\n",
        "ax.set_ylabel('Y-axis')\n",
        "ax.set_title('Plot of m')\n",
        "plt.show()"
      ],
      "metadata": {
        "colab": {
          "base_uri": "https://localhost:8080/",
          "height": 357
        },
        "id": "q8Dsv0K4nR1d",
        "outputId": "2cea6f81-a1bc-4caf-afeb-a851b651bb2e"
      },
      "execution_count": 102,
      "outputs": [
        {
          "output_type": "display_data",
          "data": {
            "text/plain": [
              "<Figure size 750x350 with 1 Axes>"
            ],
            "image/png": "[encoded data removed]"
          },
          "metadata": {}
        }
      ]
    }
  ]
}